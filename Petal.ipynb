{
 "cells": [
  {
   "cell_type": "markdown",
   "metadata": {},
   "source": [
    "# Flower Classification\n",
    "\n",
    "In this"
   ]
  },
  {
   "cell_type": "markdown",
   "metadata": {},
   "source": [
    "## Setup\n",
    "### Imports"
   ]
  },
  {
   "cell_type": "code",
   "execution_count": 4,
   "metadata": {},
   "outputs": [],
   "source": [
    "import tensorflow as tf\n",
    "AUTO = tf.data.experimental.AUTOTUNE"
   ]
  },
  {
   "cell_type": "code",
   "execution_count": 45,
   "metadata": {},
   "outputs": [],
   "source": [
    "filenames = ['\\tfrecords-jpeg-192x192\\train\\00-192x192-798.tfrec']\n",
    "dataset = tf.data.TFRecordDataset(img_paths, num_parallel_reads = AUTO)"
   ]
  },
  {
   "cell_type": "markdown",
   "metadata": {},
   "source": [
    "### Filenames"
   ]
  },
  {
   "cell_type": "code",
   "execution_count": 67,
   "metadata": {},
   "outputs": [],
   "source": [
    "path = r'.\\tfrecords-jpeg-512x512'\n",
    "TRAINING_FILENAMES = tf.io.gfile.glob(path + '/train/*.tfrec')\n",
    "VALIDATION_FILENAMES = tf.io.gfile.glob(path + '/val/*.tfrec')\n",
    "TEST_FILENAMES = tf.io.gfile.glob(path + '/test/*.tfrec')"
   ]
  },
  {
   "cell_type": "markdown",
   "metadata": {},
   "source": [
    "Loading the files"
   ]
  },
  {
   "cell_type": "code",
   "execution_count": 68,
   "metadata": {},
   "outputs": [
    {
     "data": {
      "text/plain": [
       "['.\\\\tfrecords-jpeg-512x512\\\\test\\\\00-512x512-462.tfrec',\n",
       " '.\\\\tfrecords-jpeg-512x512\\\\test\\\\01-512x512-462.tfrec',\n",
       " '.\\\\tfrecords-jpeg-512x512\\\\test\\\\02-512x512-462.tfrec',\n",
       " '.\\\\tfrecords-jpeg-512x512\\\\test\\\\03-512x512-462.tfrec',\n",
       " '.\\\\tfrecords-jpeg-512x512\\\\test\\\\04-512x512-462.tfrec',\n",
       " '.\\\\tfrecords-jpeg-512x512\\\\test\\\\05-512x512-462.tfrec',\n",
       " '.\\\\tfrecords-jpeg-512x512\\\\test\\\\06-512x512-462.tfrec',\n",
       " '.\\\\tfrecords-jpeg-512x512\\\\test\\\\07-512x512-462.tfrec',\n",
       " '.\\\\tfrecords-jpeg-512x512\\\\test\\\\08-512x512-462.tfrec',\n",
       " '.\\\\tfrecords-jpeg-512x512\\\\test\\\\09-512x512-462.tfrec',\n",
       " '.\\\\tfrecords-jpeg-512x512\\\\test\\\\10-512x512-462.tfrec',\n",
       " '.\\\\tfrecords-jpeg-512x512\\\\test\\\\11-512x512-462.tfrec',\n",
       " '.\\\\tfrecords-jpeg-512x512\\\\test\\\\12-512x512-462.tfrec',\n",
       " '.\\\\tfrecords-jpeg-512x512\\\\test\\\\13-512x512-462.tfrec',\n",
       " '.\\\\tfrecords-jpeg-512x512\\\\test\\\\14-512x512-462.tfrec',\n",
       " '.\\\\tfrecords-jpeg-512x512\\\\test\\\\15-512x512-452.tfrec']"
      ]
     },
     "execution_count": 68,
     "metadata": {},
     "output_type": "execute_result"
    }
   ],
   "source": []
  },
  {
   "cell_type": "code",
   "execution_count": null,
   "metadata": {},
   "outputs": [],
   "source": []
  }
 ],
 "metadata": {
  "kernelspec": {
   "display_name": "Python 3",
   "language": "python",
   "name": "python3"
  },
  "language_info": {
   "codemirror_mode": {
    "name": "ipython",
    "version": 3
   },
   "file_extension": ".py",
   "mimetype": "text/x-python",
   "name": "python",
   "nbconvert_exporter": "python",
   "pygments_lexer": "ipython3",
   "version": "3.7.7"
  },
  "toc": {
   "base_numbering": 1,
   "nav_menu": {},
   "number_sections": false,
   "sideBar": true,
   "skip_h1_title": true,
   "title_cell": "Table of Contents",
   "title_sidebar": "Contents",
   "toc_cell": false,
   "toc_position": {},
   "toc_section_display": true,
   "toc_window_display": true
  }
 },
 "nbformat": 4,
 "nbformat_minor": 4
}
